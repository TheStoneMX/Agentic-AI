{
 "cells": [
  {
   "cell_type": "markdown",
   "metadata": {},
   "source": [
    "# MCP Date Server Exercise\n",
    "\n",
    "This notebook demonstrates how to create and use an MCP Server that provides a tool to get the current date.\n",
    "\n",
    "Following the pattern from the accounts server example, we'll:\n",
    "1. Test the MCP server directly\n",
    "2. Use it with an Agent\n",
    "3. (Optional) Create a client wrapper for native OpenAI calls"
   ]
  },
  {
   "cell_type": "code",
   "execution_count": 1,
   "metadata": {},
   "outputs": [
    {
     "data": {
      "text/plain": [
       "True"
      ]
     },
     "execution_count": 1,
     "metadata": {},
     "output_type": "execute_result"
    }
   ],
   "source": [
    "from dotenv import load_dotenv\n",
    "from agents import Agent, Runner, trace\n",
    "from agents.mcp import MCPServerStdio\n",
    "from IPython.display import display, Markdown\n",
    "\n",
    "load_dotenv(override=True)"
   ]
  },
  {
   "cell_type": "markdown",
   "metadata": {},
   "source": [
    "### Step 1: Connect to our Date MCP Server and List Available Tools"
   ]
  },
  {
   "cell_type": "code",
   "execution_count": 3,
   "metadata": {},
   "outputs": [
    {
     "name": "stdout",
     "output_type": "stream",
     "text": [
      "Available tools:\n",
      "  - get_current_date: Get the current date and time.\n",
      "\n",
      "    Returns:\n",
      "        The current date and time in a human-readable format\n",
      "  - get_date_with_format: Get the current date with a specific format.\n",
      "\n",
      "    Args:\n",
      "        format: The format string (e.g., '%Y-%m-%d', '%B %d, %Y')\n"
     ]
    }
   ],
   "source": [
    "from agents.mcp import MCPServerStdioParams\n",
    "\n",
    "# Connect to our date server as an MCP server\n",
    "# params = MCPServerStdioParams(command=\"uv\", args=[\"run\", \"mcp_date_server.py\"])\n",
    "\n",
    "# If you're not using uv, you can use python directly:\n",
    "params = MCPServerStdioParams(command=\"python\", args=[\"mcp_date_server.py\"])\n",
    "\n",
    "async with MCPServerStdio(params=params, client_session_timeout_seconds=30) as server:\n",
    "    mcp_tools = await server.list_tools()\n",
    "    print(\"Available tools:\")\n",
    "    for tool in mcp_tools:\n",
    "        print(f\"  - {tool.name}: {tool.description}\")"
   ]
  },
  {
   "cell_type": "markdown",
   "metadata": {},
   "source": [
    "### Step 2: Use the MCP Server with an Agent"
   ]
  },
  {
   "cell_type": "code",
   "execution_count": 4,
   "metadata": {},
   "outputs": [],
   "source": [
    "# Define the agent's instructions and the request\n",
    "instructions = \"You are a helpful assistant that can tell users the current date and time.\"\n",
    "request = \"What's today's date? Can you also show me the date in ISO format?\"\n",
    "model = \"gpt-4o-mini\"  # or \"gpt-3.5-turbo\" for a cheaper option"
   ]
  },
  {
   "cell_type": "code",
   "execution_count": 5,
   "metadata": {},
   "outputs": [
    {
     "data": {
      "text/markdown": [
       "Today's date is **August 14, 2025**, and in ISO format, it is **2025-08-14**."
      ],
      "text/plain": [
       "<IPython.core.display.Markdown object>"
      ]
     },
     "metadata": {},
     "output_type": "display_data"
    }
   ],
   "source": [
    "# Run the agent with the MCP server\n",
    "async with MCPServerStdio(params=params, client_session_timeout_seconds=30) as mcp_server:\n",
    "    agent = Agent(\n",
    "        name=\"date_assistant\", \n",
    "        instructions=instructions, \n",
    "        model=model, \n",
    "        mcp_servers=[mcp_server]\n",
    "    )\n",
    "    \n",
    "    with trace(\"date_assistant\"):\n",
    "        result = await Runner.run(agent, request)\n",
    "    \n",
    "    display(Markdown(result.final_output))"
   ]
  },
  {
   "cell_type": "markdown",
   "metadata": {},
   "source": [
    "### Step 3: Test Different Date Formats"
   ]
  },
  {
   "cell_type": "code",
   "execution_count": 6,
   "metadata": {},
   "outputs": [
    {
     "data": {
      "text/markdown": [
       "Here are the current date formats you requested:\n",
       "\n",
       "- **US format (MM/DD/YYYY):** 08/14/2025\n",
       "- **European format (DD/MM/YYYY):** 14/08/2025\n",
       "- **Unix timestamp:** 1755171359"
      ],
      "text/plain": [
       "<IPython.core.display.Markdown object>"
      ]
     },
     "metadata": {},
     "output_type": "display_data"
    }
   ],
   "source": [
    "# Test with a request for multiple formats\n",
    "request = \"Can you show me the current date in three different formats: US format (MM/DD/YYYY), European format (DD/MM/YYYY), and Unix timestamp?\"\n",
    "\n",
    "async with MCPServerStdio(params=params, client_session_timeout_seconds=30) as mcp_server:\n",
    "    agent = Agent(\n",
    "        name=\"date_formatter\", \n",
    "        instructions=\"You are a date formatting assistant. Use the available tools to show dates in the requested formats.\", \n",
    "        model=model, \n",
    "        mcp_servers=[mcp_server]\n",
    "    )\n",
    "    \n",
    "    with trace(\"date_formatter\"):\n",
    "        result = await Runner.run(agent, request)\n",
    "    \n",
    "    display(Markdown(result.final_output))"
   ]
  },
  {
   "cell_type": "markdown",
   "metadata": {},
   "source": [
    "### Optional: Create an MCP Client for Native OpenAI Calls\n",
    "\n",
    "This follows the pattern from `accounts_client.py` in your example."
   ]
  },
  {
   "cell_type": "code",
   "execution_count": null,
   "metadata": {},
   "outputs": [],
   "source": [
    "# date_client.py content (you would save this as a separate file)\n",
    "date_client_code = '''\n",
    "import asyncio\n",
    "from typing import List, Dict, Any\n",
    "from mcp import ClientSession, StdioServerParameters\n",
    "from mcp.client.stdio import stdio_client\n",
    "from openai import AsyncOpenAI\n",
    "import os\n",
    "\n",
    "async def list_date_tools():\n",
    "    \"\"\"List all available tools from the date server.\"\"\"\n",
    "    params = StdioServerParameters(\n",
    "        command=\"uv\",\n",
    "        args=[\"run\", \"date_server.py\"]\n",
    "    )\n",
    "    \n",
    "    async with stdio_client(params) as (read, write):\n",
    "        async with ClientSession(read, write) as session:\n",
    "            await session.initialize()\n",
    "            tools = await session.list_tools()\n",
    "            return tools.tools\n",
    "\n",
    "async def get_date_tools_openai():\n",
    "    \"\"\"Convert MCP tools to OpenAI function tool format.\"\"\"\n",
    "    from openai.types.shared_params import FunctionTool\n",
    "    \n",
    "    mcp_tools = await list_date_tools()\n",
    "    openai_tools = []\n",
    "    \n",
    "    for tool in mcp_tools:\n",
    "        # Create a function that calls the MCP tool\n",
    "        async def call_mcp_tool(tool_name=tool.name, **kwargs):\n",
    "            params = StdioServerParameters(\n",
    "                command=\"uv\",\n",
    "                args=[\"run\", \"date_server.py\"]\n",
    "            )\n",
    "            \n",
    "            async with stdio_client(params) as (read, write):\n",
    "                async with ClientSession(read, write) as session:\n",
    "                    await session.initialize()\n",
    "                    result = await session.call_tool(tool_name, kwargs)\n",
    "                    return result.content[0].text if result.content else \"No result\"\n",
    "        \n",
    "        # Convert to OpenAI format\n",
    "        openai_tool = FunctionTool(\n",
    "            name=tool.name,\n",
    "            description=tool.description,\n",
    "            params_json_schema={\n",
    "                **tool.inputSchema,\n",
    "                \"additionalProperties\": False\n",
    "            },\n",
    "            on_invoke_tool=lambda **kwargs, tn=tool.name: asyncio.create_task(call_mcp_tool(tn, **kwargs)),\n",
    "            strict_json_schema=True\n",
    "        )\n",
    "        openai_tools.append(openai_tool)\n",
    "    \n",
    "    return openai_tools\n",
    "\n",
    "async def use_with_openai():\n",
    "    \"\"\"Example of using the MCP tools directly with OpenAI.\"\"\"\n",
    "    client = AsyncOpenAI(api_key=os.getenv(\"OPENAI_API_KEY\"))\n",
    "    tools = await get_date_tools_openai()\n",
    "    \n",
    "    # Convert tools to OpenAI format for the API call\n",
    "    tools_for_api = [\n",
    "        {\n",
    "            \"type\": \"function\",\n",
    "            \"function\": {\n",
    "                \"name\": tool.name,\n",
    "                \"description\": tool.description,\n",
    "                \"parameters\": tool.params_json_schema\n",
    "            }\n",
    "        }\n",
    "        for tool in tools\n",
    "    ]\n",
    "    \n",
    "    response = await client.chat.completions.create(\n",
    "        model=\"gpt-4o-mini\",\n",
    "        messages=[\n",
    "            {\"role\": \"user\", \"content\": \"What is today\\'s date?\"}\n",
    "        ],\n",
    "        tools=tools_for_api,\n",
    "        tool_choice=\"auto\"\n",
    "    )\n",
    "    \n",
    "    return response\n",
    "'''\n",
    "\n",
    "# Save this as date_client.py if you want to use it\n",
    "with open('date_client.py', 'w') as f:\n",
    "    f.write(date_client_code)\n",
    "\n",
    "print(\"Created date_client.py for native OpenAI integration\")"
   ]
  },
  {
   "cell_type": "markdown",
   "metadata": {},
   "source": [
    "### Testing the Native OpenAI Client (Optional)"
   ]
  },
  {
   "cell_type": "code",
   "execution_count": null,
   "metadata": {},
   "outputs": [],
   "source": [
    "# If you created the date_client.py file above, you can test it:\n",
    "# from date_client import list_date_tools, get_date_tools_openai\n",
    "\n",
    "# mcp_tools = await list_date_tools()\n",
    "# print(\"MCP Tools:\", mcp_tools)\n",
    "\n",
    "# openai_tools = await get_date_tools_openai()\n",
    "# print(\"\\nOpenAI-formatted tools:\", openai_tools)"
   ]
  },
  {
   "cell_type": "markdown",
   "metadata": {},
   "source": [
    "## Summary\n",
    "\n",
    "We've successfully created:\n",
    "\n",
    "1. **`date_server.py`**: An MCP server that exposes tools to get the current date\n",
    "   - `get_current_date`: Returns the current date in a readable format\n",
    "   - `get_date_with_format`: Returns the date in a custom format\n",
    "\n",
    "2. **This notebook**: Demonstrates how to:\n",
    "   - Connect to the MCP server\n",
    "   - Use it with an Agent\n",
    "   - Test different date formatting requests\n",
    "\n",
    "3. **`date_client.py`** (optional): A client wrapper for using the MCP tools with native OpenAI calls\n",
    "\n",
    "The pattern follows the accounts example from your notebook, but with a simpler use case focused on date/time functionality."
   ]
  }
 ],
 "metadata": {
  "kernelspec": {
   "display_name": "agents",
   "language": "python",
   "name": "python3"
  },
  "language_info": {
   "codemirror_mode": {
    "name": "ipython",
    "version": 3
   },
   "file_extension": ".py",
   "mimetype": "text/x-python",
   "name": "python",
   "nbconvert_exporter": "python",
   "pygments_lexer": "ipython3",
   "version": "3.11.0"
  }
 },
 "nbformat": 4,
 "nbformat_minor": 2
}
